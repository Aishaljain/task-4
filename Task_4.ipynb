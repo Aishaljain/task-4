{
  "nbformat": 4,
  "nbformat_minor": 0,
  "metadata": {
    "colab": {
      "provenance": []
    },
    "kernelspec": {
      "name": "python3",
      "display_name": "Python 3"
    },
    "language_info": {
      "name": "python"
    }
  },
  "cells": [
    {
      "cell_type": "code",
      "source": [
        "import zipfile\n",
        "import os\n",
        "\n",
        "# Define the path to the uploaded zip file\n",
        "zip_path = \"/content/archive (45).zip\"\n",
        "extract_dir = \"/mnt/data/extracted\"\n",
        "\n",
        "# Extract the contents of the zip file\n",
        "with zipfile.ZipFile(zip_path, 'r') as zip_ref:\n",
        "    zip_ref.extractall(extract_dir)\n",
        "\n",
        "# List the extracted files\n",
        "extracted_files = os.listdir(extract_dir)\n",
        "extracted_files\n"
      ],
      "metadata": {
        "colab": {
          "base_uri": "https://localhost:8080/"
        },
        "id": "a7yHljyMoSMf",
        "outputId": "6146cb19-7729-4f61-87ce-f5760e8a1b15"
      },
      "execution_count": 1,
      "outputs": [
        {
          "output_type": "execute_result",
          "data": {
            "text/plain": [
              "['Telco_customer_churn.xlsx']"
            ]
          },
          "metadata": {},
          "execution_count": 1
        }
      ]
    },
    {
      "cell_type": "code",
      "source": [
        "import pandas as pd\n",
        "\n",
        "# Load the Excel file\n",
        "file_path = os.path.join(extract_dir, 'Telco_customer_churn.xlsx')\n",
        "df = pd.read_excel(file_path)\n",
        "\n",
        "# Show basic info and first few rows\n",
        "df.info(), df.head()\n"
      ],
      "metadata": {
        "colab": {
          "base_uri": "https://localhost:8080/"
        },
        "id": "Wmbz5doVocYx",
        "outputId": "f48677de-8b1f-4a2c-caa3-0ac5a83faffe"
      },
      "execution_count": 2,
      "outputs": [
        {
          "output_type": "stream",
          "name": "stdout",
          "text": [
            "<class 'pandas.core.frame.DataFrame'>\n",
            "RangeIndex: 7043 entries, 0 to 7042\n",
            "Data columns (total 33 columns):\n",
            " #   Column             Non-Null Count  Dtype  \n",
            "---  ------             --------------  -----  \n",
            " 0   CustomerID         7043 non-null   object \n",
            " 1   Count              7043 non-null   int64  \n",
            " 2   Country            7043 non-null   object \n",
            " 3   State              7043 non-null   object \n",
            " 4   City               7043 non-null   object \n",
            " 5   Zip Code           7043 non-null   int64  \n",
            " 6   Lat Long           7043 non-null   object \n",
            " 7   Latitude           7043 non-null   float64\n",
            " 8   Longitude          7043 non-null   float64\n",
            " 9   Gender             7043 non-null   object \n",
            " 10  Senior Citizen     7043 non-null   object \n",
            " 11  Partner            7043 non-null   object \n",
            " 12  Dependents         7043 non-null   object \n",
            " 13  Tenure Months      7043 non-null   int64  \n",
            " 14  Phone Service      7043 non-null   object \n",
            " 15  Multiple Lines     7043 non-null   object \n",
            " 16  Internet Service   7043 non-null   object \n",
            " 17  Online Security    7043 non-null   object \n",
            " 18  Online Backup      7043 non-null   object \n",
            " 19  Device Protection  7043 non-null   object \n",
            " 20  Tech Support       7043 non-null   object \n",
            " 21  Streaming TV       7043 non-null   object \n",
            " 22  Streaming Movies   7043 non-null   object \n",
            " 23  Contract           7043 non-null   object \n",
            " 24  Paperless Billing  7043 non-null   object \n",
            " 25  Payment Method     7043 non-null   object \n",
            " 26  Monthly Charges    7043 non-null   float64\n",
            " 27  Total Charges      7043 non-null   object \n",
            " 28  Churn Label        7043 non-null   object \n",
            " 29  Churn Value        7043 non-null   int64  \n",
            " 30  Churn Score        7043 non-null   int64  \n",
            " 31  CLTV               7043 non-null   int64  \n",
            " 32  Churn Reason       1869 non-null   object \n",
            "dtypes: float64(3), int64(6), object(24)\n",
            "memory usage: 1.8+ MB\n"
          ]
        },
        {
          "output_type": "execute_result",
          "data": {
            "text/plain": [
              "(None,\n",
              "    CustomerID  Count        Country       State         City  Zip Code  \\\n",
              " 0  3668-QPYBK      1  United States  California  Los Angeles     90003   \n",
              " 1  9237-HQITU      1  United States  California  Los Angeles     90005   \n",
              " 2  9305-CDSKC      1  United States  California  Los Angeles     90006   \n",
              " 3  7892-POOKP      1  United States  California  Los Angeles     90010   \n",
              " 4  0280-XJGEX      1  United States  California  Los Angeles     90015   \n",
              " \n",
              "                  Lat Long   Latitude   Longitude  Gender  ...        Contract  \\\n",
              " 0  33.964131, -118.272783  33.964131 -118.272783    Male  ...  Month-to-month   \n",
              " 1   34.059281, -118.30742  34.059281 -118.307420  Female  ...  Month-to-month   \n",
              " 2  34.048013, -118.293953  34.048013 -118.293953  Female  ...  Month-to-month   \n",
              " 3  34.062125, -118.315709  34.062125 -118.315709  Female  ...  Month-to-month   \n",
              " 4  34.039224, -118.266293  34.039224 -118.266293    Male  ...  Month-to-month   \n",
              " \n",
              "   Paperless Billing             Payment Method  Monthly Charges Total Charges  \\\n",
              " 0               Yes               Mailed check            53.85        108.15   \n",
              " 1               Yes           Electronic check            70.70        151.65   \n",
              " 2               Yes           Electronic check            99.65         820.5   \n",
              " 3               Yes           Electronic check           104.80       3046.05   \n",
              " 4               Yes  Bank transfer (automatic)           103.70        5036.3   \n",
              " \n",
              "   Churn Label Churn Value Churn Score  CLTV                   Churn Reason  \n",
              " 0         Yes           1          86  3239   Competitor made better offer  \n",
              " 1         Yes           1          67  2701                          Moved  \n",
              " 2         Yes           1          86  5372                          Moved  \n",
              " 3         Yes           1          84  5003                          Moved  \n",
              " 4         Yes           1          89  5340  Competitor had better devices  \n",
              " \n",
              " [5 rows x 33 columns])"
            ]
          },
          "metadata": {},
          "execution_count": 2
        }
      ]
    },
    {
      "cell_type": "code",
      "source": [
        "from sklearn.preprocessing import LabelEncoder, OneHotEncoder, StandardScaler\n",
        "from sklearn.compose import ColumnTransformer\n",
        "from sklearn.pipeline import Pipeline\n",
        "from sklearn.ensemble import RandomForestClassifier\n",
        "from sklearn.model_selection import train_test_split\n",
        "from sklearn.metrics import classification_report\n",
        "from sklearn.impute import SimpleImputer\n",
        "import matplotlib.pyplot as plt\n",
        "import seaborn as sns\n",
        "import joblib\n",
        "\n",
        "# Drop irrelevant columns\n",
        "df_cleaned = df.drop(columns=[\n",
        "    'CustomerID', 'Lat Long', 'City', 'State', 'Country', 'Churn Reason'\n",
        "])\n",
        "\n",
        "# Convert 'Total Charges' to numeric, coerce errors to NaN\n",
        "df_cleaned['Total Charges'] = pd.to_numeric(df_cleaned['Total Charges'], errors='coerce')\n",
        "\n",
        "# Fill missing Total Charges with median\n",
        "df_cleaned['Total Charges'].fillna(df_cleaned['Total Charges'].median(), inplace=True)\n",
        "\n",
        "# Define target and features\n",
        "target = 'Churn Value'\n",
        "X = df_cleaned.drop(columns=[target, 'Churn Label'])  # Drop redundant churn label\n",
        "y = df_cleaned[target]\n",
        "\n",
        "# Identify categorical columns\n",
        "binary_cols = [col for col in X.select_dtypes(include='object').columns if X[col].nunique() == 2]\n",
        "multi_cols = [col for col in X.select_dtypes(include='object').columns if X[col].nunique() > 2]\n",
        "num_cols = X.select_dtypes(include=['int64', 'float64']).columns.tolist()\n",
        "\n",
        "# Column transformer: LabelEncode binary, OneHot multi-class, scale numeric\n",
        "preprocessor = ColumnTransformer(transformers=[\n",
        "    ('bin', Pipeline(steps=[('le', LabelEncoder())]), binary_cols),  # Will handle separately\n",
        "    ('onehot', OneHotEncoder(drop='first', sparse_output=False), multi_cols),\n",
        "    ('scale', StandardScaler(), num_cols)\n",
        "], remainder='drop')\n",
        "\n",
        "# Manually encode binary columns since LabelEncoder doesn't work inside ColumnTransformer\n",
        "le = LabelEncoder()\n",
        "for col in binary_cols:\n",
        "    X[col] = le.fit_transform(X[col])\n",
        "\n",
        "# Apply OneHot and Scaling to the rest\n",
        "onehot_scale_preprocessor = ColumnTransformer(transformers=[\n",
        "    ('onehot', OneHotEncoder(drop='first', sparse_output=False), multi_cols),\n",
        "    ('scale', StandardScaler(), num_cols)\n",
        "])\n",
        "\n",
        "X_processed = onehot_scale_preprocessor.fit_transform(X)\n",
        "\n",
        "# Train-test split\n",
        "X_train, X_test, y_train, y_test = train_test_split(X_processed, y, test_size=0.2, random_state=42)\n",
        "\n",
        "# Train RandomForestClassifier\n",
        "rf = RandomForestClassifier(random_state=42)\n",
        "rf.fit(X_train, y_train)\n",
        "y_pred = rf.predict(X_test)\n",
        "\n",
        "# Feature importance\n",
        "importances = rf.feature_importances_\n",
        "\n",
        "# Save model\n",
        "model_path = \"/mnt/data/random_forest_churn_model.joblib\"\n",
        "joblib.dump(rf, model_path)\n",
        "\n",
        "# Output classification report and importance length\n",
        "report = classification_report(y_test, y_pred)\n",
        "importance_length = len(importances)\n",
        "report, importance_length, model_path\n"
      ],
      "metadata": {
        "colab": {
          "base_uri": "https://localhost:8080/"
        },
        "id": "iaN9QHxsolIc",
        "outputId": "b5010914-bc6d-48f6-f63c-ff3cfed7c9c1"
      },
      "execution_count": 3,
      "outputs": [
        {
          "output_type": "stream",
          "name": "stderr",
          "text": [
            "/tmp/ipython-input-3-3335153241.py:21: FutureWarning: A value is trying to be set on a copy of a DataFrame or Series through chained assignment using an inplace method.\n",
            "The behavior will change in pandas 3.0. This inplace method will never work because the intermediate object on which we are setting values always behaves as a copy.\n",
            "\n",
            "For example, when doing 'df[col].method(value, inplace=True)', try using 'df.method({col: value}, inplace=True)' or df[col] = df[col].method(value) instead, to perform the operation inplace on the original object.\n",
            "\n",
            "\n",
            "  df_cleaned['Total Charges'].fillna(df_cleaned['Total Charges'].median(), inplace=True)\n"
          ]
        },
        {
          "output_type": "execute_result",
          "data": {
            "text/plain": [
              "('              precision    recall  f1-score   support\\n\\n           0       0.94      0.96      0.95      1009\\n           1       0.89      0.84      0.87       400\\n\\n    accuracy                           0.93      1409\\n   macro avg       0.92      0.90      0.91      1409\\nweighted avg       0.93      0.93      0.93      1409\\n',\n",
              " 30,\n",
              " '/mnt/data/random_forest_churn_model.joblib')"
            ]
          },
          "metadata": {},
          "execution_count": 3
        }
      ]
    },
    {
      "cell_type": "code",
      "source": [
        "# Redefine preprocessor using compatible argument for OneHotEncoder\n",
        "onehot_scale_preprocessor = ColumnTransformer(transformers=[\n",
        "    ('onehot', OneHotEncoder(drop='first', sparse_output=False), multi_cols),\n",
        "    ('scale', StandardScaler(), num_cols)\n",
        "])\n",
        "\n",
        "# Reapply LabelEncoding to binary columns\n",
        "for col in binary_cols:\n",
        "    X[col] = le.fit_transform(X[col])\n",
        "\n",
        "# Transform the data\n",
        "X_processed = onehot_scale_preprocessor.fit_transform(X)\n",
        "\n",
        "# Train-test split\n",
        "X_train, X_test, y_train, y_test = train_test_split(X_processed, y, test_size=0.2, random_state=42)\n",
        "\n",
        "# Train RandomForestClassifier\n",
        "rf = RandomForestClassifier(random_state=42)\n",
        "rf.fit(X_train, y_train)\n",
        "y_pred = rf.predict(X_test)\n",
        "\n",
        "# Get feature importances and classification report\n",
        "importances = rf.feature_importances_\n",
        "report = classification_report(y_test, y_pred)\n",
        "\n",
        "# Save model to disk\n",
        "model_path = \"/mnt/data/random_forest_churn_model.joblib\"\n",
        "joblib.dump(rf, model_path)\n",
        "\n",
        "report, len(importances), model_path"
      ],
      "metadata": {
        "colab": {
          "base_uri": "https://localhost:8080/"
        },
        "id": "q40FHEvMovSF",
        "outputId": "ab255ab5-652c-44f1-c50c-51d727513176"
      },
      "execution_count": 10,
      "outputs": [
        {
          "output_type": "execute_result",
          "data": {
            "text/plain": [
              "('              precision    recall  f1-score   support\\n\\n           0       0.94      0.96      0.95      1009\\n           1       0.89      0.84      0.87       400\\n\\n    accuracy                           0.93      1409\\n   macro avg       0.92      0.90      0.91      1409\\nweighted avg       0.93      0.93      0.93      1409\\n',\n",
              " 30,\n",
              " '/mnt/data/random_forest_churn_model.joblib')"
            ]
          },
          "metadata": {},
          "execution_count": 10
        }
      ]
    }
  ]
}